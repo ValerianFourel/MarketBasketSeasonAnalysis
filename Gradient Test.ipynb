{
 "cells": [
  {
   "cell_type": "code",
   "execution_count": 5,
   "id": "b898c6c9",
   "metadata": {},
   "outputs": [
    {
     "name": "stdout",
     "output_type": "stream",
     "text": [
      "Requirement already satisfied: numdifftools in /Users/raphaelfourel/opt/anaconda3/envs/Chollet/lib/python3.10/site-packages (0.9.41)\r\n",
      "Requirement already satisfied: scipy>=0.8 in /Users/raphaelfourel/opt/anaconda3/envs/Chollet/lib/python3.10/site-packages (from numdifftools) (1.10.0)\r\n",
      "Requirement already satisfied: numpy>=1.9 in /Users/raphaelfourel/opt/anaconda3/envs/Chollet/lib/python3.10/site-packages (from numdifftools) (1.24.1)\r\n"
     ]
    }
   ],
   "source": [
    "!pip install numdifftools"
   ]
  },
  {
   "cell_type": "code",
   "execution_count": 6,
   "id": "68daa9d7",
   "metadata": {},
   "outputs": [
    {
     "ename": "ModuleNotFoundError",
     "evalue": "No module named 'numdifftools'",
     "output_type": "error",
     "traceback": [
      "\u001b[0;31m---------------------------------------------------------------------------\u001b[0m",
      "\u001b[0;31mModuleNotFoundError\u001b[0m                       Traceback (most recent call last)",
      "Input \u001b[0;32mIn [6]\u001b[0m, in \u001b[0;36m<cell line: 1>\u001b[0;34m()\u001b[0m\n\u001b[0;32m----> 1\u001b[0m \u001b[38;5;28;01mimport\u001b[39;00m \u001b[38;5;21;01mnumdifftools\u001b[39;00m \u001b[38;5;28;01mas\u001b[39;00m \u001b[38;5;21;01mnd\u001b[39;00m\n\u001b[1;32m      4\u001b[0m \u001b[38;5;28;01mdef\u001b[39;00m \u001b[38;5;21mrosen\u001b[39m(x): \n\u001b[1;32m      5\u001b[0m     \u001b[38;5;28;01mreturn\u001b[39;00m (\u001b[38;5;241m1\u001b[39m\u001b[38;5;241m-\u001b[39mx[\u001b[38;5;241m0\u001b[39m])\u001b[38;5;241m*\u001b[39m\u001b[38;5;241m*\u001b[39m\u001b[38;5;241m2\u001b[39m \u001b[38;5;241m+\u001b[39m(x[\u001b[38;5;241m1\u001b[39m]\u001b[38;5;241m-\u001b[39mx[\u001b[38;5;241m0\u001b[39m]\u001b[38;5;241m*\u001b[39m\u001b[38;5;241m*\u001b[39m\u001b[38;5;241m2\u001b[39m)\u001b[38;5;241m*\u001b[39m\u001b[38;5;241m*\u001b[39m\u001b[38;5;241m2\u001b[39m\n",
      "\u001b[0;31mModuleNotFoundError\u001b[0m: No module named 'numdifftools'"
     ]
    }
   ],
   "source": [
    "import numdifftools as nd\n",
    "  \n",
    "\n",
    "def rosen(x): \n",
    "    return (1-x[0])**2 +(x[1]-x[0]**2)**2\n",
    "  \n",
    "grad2 = nd.Gradient(rosen)([1, 2])\n",
    "print(\"Gradient of (1-x ^ 2)+(y-x ^ 2)^2 at (1, 2) is \", grad2)"
   ]
  },
  {
   "cell_type": "code",
   "execution_count": null,
   "id": "04b6f76e",
   "metadata": {},
   "outputs": [],
   "source": [
    "partial derivative u^2*cos(v)^2+2u^2*cos(v)*sin(v)+u^2*sin(v)^2"
   ]
  }
 ],
 "metadata": {
  "kernelspec": {
   "display_name": "Python 3 (ipykernel)",
   "language": "python",
   "name": "python3"
  },
  "language_info": {
   "codemirror_mode": {
    "name": "ipython",
    "version": 3
   },
   "file_extension": ".py",
   "mimetype": "text/x-python",
   "name": "python",
   "nbconvert_exporter": "python",
   "pygments_lexer": "ipython3",
   "version": "3.10.7"
  }
 },
 "nbformat": 4,
 "nbformat_minor": 5
}
