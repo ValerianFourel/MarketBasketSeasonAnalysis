{
 "cells": [
  {
   "cell_type": "code",
   "execution_count": 2,
   "id": "0dca05f5",
   "metadata": {},
   "outputs": [
    {
     "name": "stdout",
     "output_type": "stream",
     "text": [
      "Requirement already satisfied: numdifftools in /Users/raphaelfourel/opt/anaconda3/envs/Chollet/lib/python3.10/site-packages (0.9.41)\n",
      "Requirement already satisfied: scipy>=0.8 in /Users/raphaelfourel/opt/anaconda3/envs/Chollet/lib/python3.10/site-packages (from numdifftools) (1.10.0)\n",
      "Requirement already satisfied: numpy>=1.9 in /Users/raphaelfourel/opt/anaconda3/envs/Chollet/lib/python3.10/site-packages (from numdifftools) (1.24.1)\n"
     ]
    }
   ],
   "source": [
    "!pip install numdifftools"
   ]
  },
  {
   "cell_type": "code",
   "execution_count": 3,
   "id": "7e0e91c8",
   "metadata": {},
   "outputs": [
    {
     "ename": "ModuleNotFoundError",
     "evalue": "No module named 'numdifftools'",
     "output_type": "error",
     "traceback": [
      "\u001b[0;31m---------------------------------------------------------------------------\u001b[0m",
      "\u001b[0;31mModuleNotFoundError\u001b[0m                       Traceback (most recent call last)",
      "Input \u001b[0;32mIn [3]\u001b[0m, in \u001b[0;36m<cell line: 1>\u001b[0;34m()\u001b[0m\n\u001b[0;32m----> 1\u001b[0m \u001b[38;5;28;01mimport\u001b[39;00m \u001b[38;5;21;01mnumdifftools\u001b[39;00m \u001b[38;5;28;01mas\u001b[39;00m \u001b[38;5;21;01mnd\u001b[39;00m\n\u001b[1;32m      4\u001b[0m g \u001b[38;5;241m=\u001b[39m \u001b[38;5;28;01mlambda\u001b[39;00m x:(x\u001b[38;5;241m*\u001b[39m\u001b[38;5;241m*\u001b[39m\u001b[38;5;241m4\u001b[39m)\u001b[38;5;241m+\u001b[39mx \u001b[38;5;241m+\u001b[39m \u001b[38;5;241m1\u001b[39m\n\u001b[1;32m      5\u001b[0m grad1 \u001b[38;5;241m=\u001b[39m nd\u001b[38;5;241m.\u001b[39mGradient(g)([\u001b[38;5;241m1\u001b[39m])\n",
      "\u001b[0;31mModuleNotFoundError\u001b[0m: No module named 'numdifftools'"
     ]
    }
   ],
   "source": [
    "import numdifftools as nd\n",
    "  \n",
    "  \n",
    "g = lambda x:(x**4)+x + 1\n",
    "grad1 = nd.Gradient(g)([1])\n",
    "print(\"Gradient of x ^ 4 + x+1 at x = 1 is \", grad1)\n",
    "  \n",
    "def rosen(x): \n",
    "    return (1-x[0])**2 +(x[1]-x[0]**2)**2\n",
    "  \n",
    "grad2 = nd.Gradient(rosen)([1, 2])\n",
    "print(\"Gradient of (1-x ^ 2)+(y-x ^ 2)^2 at (1, 2) is \", grad2)"
   ]
  },
  {
   "cell_type": "code",
   "execution_count": null,
   "id": "57c0a2d9",
   "metadata": {},
   "outputs": [],
   "source": [
    "partial derivative u^2*cos(v)^2+2u^2*cos(v)*sin(v)+u^2*sin(v)^2"
   ]
  }
 ],
 "metadata": {
  "kernelspec": {
   "display_name": "Python 3 (ipykernel)",
   "language": "python",
   "name": "python3"
  },
  "language_info": {
   "codemirror_mode": {
    "name": "ipython",
    "version": 3
   },
   "file_extension": ".py",
   "mimetype": "text/x-python",
   "name": "python",
   "nbconvert_exporter": "python",
   "pygments_lexer": "ipython3",
   "version": "3.10.7"
  }
 },
 "nbformat": 4,
 "nbformat_minor": 5
}
